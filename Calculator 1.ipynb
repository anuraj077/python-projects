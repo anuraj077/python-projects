{
 "cells": [
  {
   "cell_type": "markdown",
   "id": "6eb7cb0b",
   "metadata": {},
   "source": [
    "# Calculator"
   ]
  },
  {
   "cell_type": "code",
   "execution_count": null,
   "id": "82af6291",
   "metadata": {},
   "outputs": [],
   "source": [
    "import tkinter\n",
    "from tkinter import*\n",
    "\n",
    "window=Tk()\n",
    "window.title(\"Simple Calculator\")\n",
    "window.geometry(\"570x600+100+200\")\n",
    "window.resizable(False,False)\n",
    "window.configure(bg=\"#7FFF00\")\n",
    "equation =''\n",
    "\n",
    "def show(value):\n",
    "    global equation\n",
    "    equation+=value\n",
    "    label_result.config(text=equation)\n",
    "    \n",
    "def clear():\n",
    "    global equation\n",
    "    equation=''\n",
    "    label_result.config(text=equation)\n",
    "    \n",
    "def calculate():\n",
    "    global equation\n",
    "    result=\"\"\n",
    "    if equation!=\"\":\n",
    "        try:\n",
    "            result=eval(equation)\n",
    "        except:\n",
    "            result=\"error\"\n",
    "            equation =\"\"\n",
    "    label_result.config(text=result)\n",
    "        \n",
    "\n",
    "\n",
    "label_result= Label(window,width=25,height=2,text=\"\",font=(\"arial\",30))\n",
    "label_result.pack()\n",
    " \n",
    "\n",
    "Button(window,text=\"C\", width=5, height=1, font=(\"arial\",30,\"bold\"), bd=1,fg=\"#fff\",bg=\"#FF0000\",command=lambda:clear()).place(x=10,y=100)\n",
    "Button(window,text=\"/\", width=5, height=1, font=(\"arial\",30,\"bold\"), bd=1,fg=\"#fff\",bg=\"#000080\",command=lambda:show(\"/\")).place(x=150,y=100)\n",
    "Button(window,text=\"%\", width=5, height=1, font=(\"arial\",30,\"bold\"), bd=1,fg=\"#fff\",bg=\"#8E8E8E\",command=lambda:show(\"%\")).place(x=290,y=100)\n",
    "Button(window,text=\"*\", width=5, height=1, font=(\"arial\",30,\"bold\"), bd=1,fg=\"#fff\",bg=\"#68228B\",command=lambda:show(\"*\")).place(x=430,y=100)\n",
    "\n",
    "Button(window,text=\"7\", width=5, height=1, font=(\"arial\",30,\"bold\"), bd=1,fg=\"#fff\",bg=\"#2a2d36\",command=lambda:show(\"7\")).place(x=10,y=200)\n",
    "Button(window,text=\"8\", width=5, height=1, font=(\"arial\",30,\"bold\"), bd=1,fg=\"#fff\",bg=\"#2a2d36\",command=lambda:show(\"8\")).place(x=150,y=200)\n",
    "Button(window,text=\"9\", width=5, height=1, font=(\"arial\",30,\"bold\"), bd=1,fg=\"#fff\",bg=\"#2a2d36\",command=lambda:show(\"9\")).place(x=290,y=200)\n",
    "Button(window,text=\"-\", width=5, height=1, font=(\"arial\",30,\"bold\"), bd=1,fg=\"#fff\",bg=\"#2a2d36\",command=lambda:show(\"-\")).place(x=430,y=200) \n",
    "Button(window,text=\"4\", width=5, height=1, font=(\"arial\",30,\"bold\"), bd=1,fg=\"#fff\",bg=\"#2a2d36\",command=lambda:show(\"4\")).place(x=10,y=300)\n",
    "Button(window,text=\"5\", width=5, height=1, font=(\"arial\",30,\"bold\"), bd=1,fg=\"#fff\",bg=\"#2a2d36\",command=lambda:show(\"5\")).place(x=150,y=300)\n",
    "Button(window,text=\"6\", width=5, height=1, font=(\"arial\",30,\"bold\"), bd=1,fg=\"#fff\",bg=\"#2a2d36\",command=lambda:show(\"6\")).place(x=290,y=300)\n",
    "Button(window,text=\"+\", width=5, height=1, font=(\"arial\",30,\"bold\"), bd=1,fg=\"#fff\",bg=\"#2a2d36\",command=lambda:show(\"+\")).place(x=430,y=300)\n",
    "\n",
    "Button(window,text=\"1\", width=5, height=1, font=(\"arial\",30,\"bold\"), bd=1,fg=\"#fff\",bg=\"#2a2d36\",command=lambda:show(\"1\")).place(x=10,y=400)\n",
    "Button(window,text=\"2\", width=5, height=1, font=(\"arial\",30,\"bold\"), bd=1,fg=\"#fff\",bg=\"#2a2d36\",command=lambda:show(\"2\")).place(x=150,y=400)\n",
    "Button(window,text=\"3\", width=5, height=1, font=(\"arial\",30,\"bold\"), bd=1,fg=\"#fff\",bg=\"#2a2d36\",command=lambda:show(\"3\")).place(x=290,y=400)\n",
    "Button(window,text=\"0\", width=11, height=1, font=(\"arial\",30,\"bold\"), bd=1,fg=\"#fff\",bg=\"#2a2d36\",command=lambda:show(\"0\")).place(x=10,y=500)\n",
    "\n",
    "Button(window,text=\".\", width=5, height=1, font=(\"arial\",30,\"bold\"), bd=1,fg=\"#fff\",bg=\"#2a2d36\",command=lambda:show(\".\")).place(x=290,y=500)\n",
    "Button(window,text=\"=\", width=5, height=1, font=(\"arial\",30,\"bold\"), bd=1,fg=\"#fff\",bg=\"#fe9037\",command=lambda:calculate()).place(x=430,y=400)\n",
    "\n",
    "\n",
    "window.mainloop()"
   ]
  },
  {
   "cell_type": "code",
   "execution_count": null,
   "id": "6d4b79a5",
   "metadata": {},
   "outputs": [],
   "source": [
    "\n"
   ]
  }
 ],
 "metadata": {
  "kernelspec": {
   "display_name": "Python 3 (ipykernel)",
   "language": "python",
   "name": "python3"
  },
  "language_info": {
   "codemirror_mode": {
    "name": "ipython",
    "version": 3
   },
   "file_extension": ".py",
   "mimetype": "text/x-python",
   "name": "python",
   "nbconvert_exporter": "python",
   "pygments_lexer": "ipython3",
   "version": "3.9.13"
  }
 },
 "nbformat": 4,
 "nbformat_minor": 5
}
